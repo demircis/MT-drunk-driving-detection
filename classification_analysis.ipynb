{
 "cells": [
  {
   "cell_type": "markdown",
   "metadata": {},
   "source": [
    "### Load Config"
   ]
  },
  {
   "cell_type": "code",
   "execution_count": null,
   "metadata": {},
   "outputs": [],
   "source": [
    "from yaml import load, Loader\n",
    "from bunch import Bunch\n",
    "Bunch.__str__ = Bunch.__repr__\n",
    "\n",
    "stream = open(\"config.yaml\", 'r')\n",
    "config = Bunch(load(stream, Loader=Loader))"
   ]
  },
  {
   "cell_type": "code",
   "execution_count": null,
   "metadata": {},
   "outputs": [],
   "source": [
    "import pandas as pd\n",
    "import numpy as np\n",
    "import matplotlib.pyplot as plt\n",
    "import plotting_util as putil\n",
    "\n",
    "plt.rcParams['figure.facecolor'] = 'white'\n",
    "\n",
    "SIGNAL_COMBOS = [['driver_behavior', 'vehicle_behavior'], ['driver_behavior', 'vehicle_behavior', 'navi'],\n",
    "                ['driver_behavior', 'vehicle_behavior', 'radar'], ['driver_behavior', 'vehicle_behavior', 'navi', 'radar']]\n",
    "\n",
    "metrics = ['test_balanced_accuracy', 'train_balanced_accuracy', 'test_roc_auc', 'train_roc_auc']\n",
    "\n",
    "can_data = pd.read_parquet('out/can_data.parquet', columns=['subject_id'])\n",
    "subject_ids = np.unique(can_data['subject_id'])\n",
    "yticks = [round(n, 2) for n in np.arange(0.1, 1.1, step=0.1)]"
   ]
  },
  {
   "cell_type": "markdown",
   "metadata": {},
   "source": [
    "### Visualize Results"
   ]
  },
  {
   "cell_type": "markdown",
   "metadata": {},
   "source": [
    "##### Window sizes"
   ]
  },
  {
   "cell_type": "code",
   "execution_count": null,
   "metadata": {},
   "outputs": [],
   "source": [
    "# compare window sizes\n",
    "scores = []\n",
    "for window_size in config.window_sizes:\n",
    "    results = pd.read_csv('out/results/{}_{}_pred_results_windowsize_{}.csv'.format(\n",
    "                config.classifier_type, config.clf_mode, window_size), index_col=0, usecols=lambda x: x not in ['fit_time', 'score_time'])\n",
    "    score = results.loc[subject_ids, metrics]\n",
    "    scores.append(score)\n",
    "scores = np.array(scores)\n",
    "for i in range(scores.shape[2]):\n",
    "    fig, axes = putil.create_plot(nrows=1, ncols=1, sharey=True)\n",
    "    for ax in axes:\n",
    "        putil.set_ax_visible_spines(ax, top=False, right=False)\n",
    "    putil.set_figure_size(fig, 5, 5)\n",
    "    axes[0].boxplot(np.transpose(scores[:, :, i]))\n",
    "    putil.set_ax_xticks(axes[0], range(1, scores.shape[0]+1), config.window_sizes)\n",
    "    putil.set_ax_yticks(axes[0], yticks, yticks)\n",
    "    putil.set_ax_axis_labels(axes[0], x_label='window sizes [s]', y_label=[s.replace('_', ' ').replace('roc auc', 'AUROC') for s in metrics][i])\n",
    "    putil.set_ax_bg_color(axes[0], 'whitesmoke')\n",
    "    putil.set_ax_grid_lines(axes[0], True, axis=\"y\", color=\"w\")\n",
    "    plt.tight_layout()\n",
    "    plt.savefig('out/results/{}_{}_scores_varying_window_sizes_{}.pdf'.format(config.classifier_type, config.clf_mode, metrics[i]))"
   ]
  },
  {
   "cell_type": "code",
   "execution_count": null,
   "metadata": {},
   "outputs": [],
   "source": [
    "# compare signal combos\n",
    "mean_scores = []\n",
    "stddevs = []\n",
    "window_size = 60\n",
    "for combo in SIGNAL_COMBOS:\n",
    "    signal_string = ''\n",
    "    for signal in combo:\n",
    "        signal_string += '_' + signal\n",
    "    results = pd.read_csv('out/results/{}_{}_pred_results_windowsize_{}{}.csv'.format(\n",
    "                config.classifier_type, config.clf_mode, window_size, signal_string), index_col=0, usecols=lambda x: x not in ['fit_time', 'score_time'])\n",
    "    mean_score = results.loc[subject_ids, scores]\n",
    "    stddev = results.loc['stddev', scores]\n",
    "    mean_scores.append(mean_score)\n",
    "    stddevs.append(stddev)\n",
    "mean_scores = np.array(mean_scores)\n",
    "stddevs = np.array(stddevs)\n",
    "for i in range(mean_scores.shape[1]):\n",
    "    axes[1].plot(range(len(mean_scores)), mean_scores[:, i], markerfacecolor='white', marker=\"o\", label=scores[i])\n",
    "    axes[1].fill_between(range(len(mean_scores)), y1=mean_scores[:, i]-stddevs[:, i], y2=mean_scores[:, i]+stddevs[:, i], alpha=0.2)\n",
    "putil.set_ax_xticks(axes[1], range(len(mean_scores)), SIGNAL_COMBOS, rotation=90)\n",
    "putil.set_ax_axis_labels(axes[1], 'signal combos')\n",
    "putil.set_ax_bg_color(axes[1], 'whitesmoke')\n",
    "putil.set_ax_grid_lines(axes[1], True, axis=\"y\", color=\"w\")"
   ]
  },
  {
   "cell_type": "markdown",
   "metadata": {},
   "source": [
    "##### Step sizes"
   ]
  },
  {
   "cell_type": "code",
   "execution_count": null,
   "metadata": {},
   "outputs": [],
   "source": [
    "# compare step sizes\n",
    "scores = []\n",
    "window_size = 120\n",
    "for step_size in config.step_sizes:\n",
    "    step = 1\n",
    "    if step_size is not None:\n",
    "        results = pd.read_csv('out/results/{}_{}_pred_results_step_size_{}_windowsize_{}.csv'.format(\n",
    "                    config.classifier_type, config.clf_mode, step_size, window_size), index_col=0, usecols=lambda x: x not in ['fit_time', 'score_time'])\n",
    "        score = results.loc[subject_ids, metrics]\n",
    "        scores.append(score)\n",
    "scores = np.array(scores)\n",
    "for i in range(scores.shape[2]):\n",
    "    fig, axes = putil.create_plot(nrows=1, ncols=1, sharey=True)\n",
    "    for ax in axes:\n",
    "        putil.set_ax_visible_spines(ax, top=False, right=False)\n",
    "    putil.set_figure_size(fig, 5, 5)\n",
    "    axes[0].boxplot(np.transpose(scores[:, :, i]))\n",
    "    putil.set_ax_xticks(axes[0], range(1, scores.shape[0]+1), config.step_sizes)\n",
    "    putil.set_ax_yticks(axes[0], yticks, yticks)\n",
    "    putil.set_ax_axis_labels(axes[0], x_label='step sizes [s]', y_label=[s.replace('_', ' ').replace('roc auc', 'AUROC') for s in metrics][i])\n",
    "    putil.set_ax_bg_color(axes[0], 'whitesmoke')\n",
    "    putil.set_ax_grid_lines(axes[0], True, axis=\"y\", color=\"w\")\n",
    "    plt.tight_layout()\n",
    "    plt.savefig('out/results/{}_{}_scores_varying_step_sizes_{}.pdf'.format(config.classifier_type, config.clf_mode, metrics[i]))"
   ]
  },
  {
   "cell_type": "markdown",
   "metadata": {},
   "source": [
    "### Sliding windows"
   ]
  },
  {
   "cell_type": "markdown",
   "metadata": {},
   "source": [
    "##### Overall Baseline"
   ]
  },
  {
   "cell_type": "code",
   "execution_count": null,
   "metadata": {},
   "outputs": [],
   "source": [
    "import pandas as pd\n",
    "import numpy as np\n",
    "import matplotlib.pyplot as plt\n",
    "import plotting_util as putil\n",
    "\n",
    "plt.rcParams['figure.facecolor'] = 'white'\n",
    "\n",
    "SIGNAL_COMBOS = [['driver_behavior', 'vehicle_behavior'], ['driver_behavior', 'vehicle_behavior', 'navi'],\n",
    "                ['driver_behavior', 'vehicle_behavior', 'radar'], ['driver_behavior', 'vehicle_behavior', 'navi', 'radar']]\n",
    "\n",
    "SCENARIOS = ['highway', 'rural', 'town']\n",
    "\n",
    "colors = ['blue', 'royalblue', 'green', 'limegreen']\n",
    "\n",
    "# compare scenarios\n",
    "for i, window_size in enumerate(config.window_sizes):\n",
    "    scores = []\n",
    "    for j, combo in enumerate(SIGNAL_COMBOS):\n",
    "        signal_string = ''\n",
    "        for signal in combo:\n",
    "            signal_string += '_' + signal\n",
    "        results = pd.read_csv('out/results/{}_{}_pred_results_windowsize_{}{}_no_sfs.csv'.format(\n",
    "                        config.classifier_type, config.clf_mode, window_size, signal_string), index_col=0, usecols=lambda x: x not in ['fit_time', 'score_time'])\n",
    "        scores.append(results.loc[subject_ids, metrics])\n",
    "    scores = np.array(scores)\n",
    "    for l in range(scores.shape[2]):\n",
    "        fig, axes = putil.create_plot()\n",
    "        putil.set_ax_visible_spines(axes[0], top=False, right=False)\n",
    "        putil.set_figure_size(fig, 8, 5)\n",
    "        axes[0].boxplot(np.transpose(scores[:, :, l]))\n",
    "        putil.set_ax_xticks(axes[0], range(1, len(SIGNAL_COMBOS)+1), [' +\\n'.join(combo).replace('_', ' ').replace(' behavior', '') for combo in SIGNAL_COMBOS])\n",
    "        putil.set_ax_yticks(axes[0], yticks, yticks)\n",
    "        putil.set_ax_axis_labels(axes[0], x_label='signal combinations', y_label=metrics[l].replace('_', ' ').replace('roc auc', 'AUROC'))\n",
    "        putil.set_ax_bg_color(axes[0], 'whitesmoke')\n",
    "        putil.set_ax_grid_lines(axes[0], True, axis=\"y\", color=\"w\")\n",
    "        plt.tight_layout()\n",
    "        plt.savefig('out/results/{}_{}_{}_scores_overall_baseline_{}.pdf'.format(config.classifier_type, config.dataset, config.clf_mode, metrics[l]))"
   ]
  },
  {
   "cell_type": "markdown",
   "metadata": {},
   "source": [
    "##### Overall"
   ]
  },
  {
   "cell_type": "code",
   "execution_count": null,
   "metadata": {},
   "outputs": [],
   "source": [
    "import pandas as pd\n",
    "import numpy as np\n",
    "import matplotlib.pyplot as plt\n",
    "import plotting_util as putil\n",
    "\n",
    "plt.rcParams['figure.facecolor'] = 'white'\n",
    "\n",
    "SIGNAL_COMBOS = [['driver_behavior', 'vehicle_behavior'], ['driver_behavior', 'vehicle_behavior', 'navi'],\n",
    "                ['driver_behavior', 'vehicle_behavior', 'radar'], ['driver_behavior', 'vehicle_behavior', 'navi', 'radar']]\n",
    "\n",
    "SCENARIOS = ['highway', 'rural', 'town']\n",
    "\n",
    "colors = ['blue', 'royalblue', 'green', 'limegreen']\n",
    "\n",
    "# compare scenarios\n",
    "for i, window_size in enumerate(config.window_sizes):\n",
    "    scores = []\n",
    "    for j, combo in enumerate(SIGNAL_COMBOS):\n",
    "        signal_string = ''\n",
    "        for signal in combo:\n",
    "            signal_string += '_' + signal\n",
    "        results = pd.read_csv('out/results/{}_{}_pred_results_windowsize_{}{}.csv'.format(\n",
    "                        config.classifier_type, config.clf_mode, window_size, signal_string), index_col=0, usecols=lambda x: x not in ['fit_time', 'score_time'])\n",
    "        scores.append(results.loc[subject_ids, metrics])\n",
    "    scores = np.array(scores)\n",
    "    for l in range(scores.shape[2]):\n",
    "        fig, axes = putil.create_plot()\n",
    "        putil.set_ax_visible_spines(axes[0], top=False, right=False)\n",
    "        putil.set_figure_size(fig, 8, 5)\n",
    "        axes[0].boxplot(np.transpose(scores[:, :, l]))\n",
    "        putil.set_ax_xticks(axes[0], range(1, len(SIGNAL_COMBOS)+1), [' +\\n'.join(combo).replace('_', ' ').replace(' behavior', '') for combo in SIGNAL_COMBOS])\n",
    "        putil.set_ax_yticks(axes[0], yticks, yticks)\n",
    "        putil.set_ax_axis_labels(axes[0], x_label='signal combinations', y_label=metrics[l].replace('_', ' ').replace('roc auc', 'AUROC'))\n",
    "        putil.set_ax_bg_color(axes[0], 'whitesmoke')\n",
    "        putil.set_ax_grid_lines(axes[0], True, axis=\"y\", color=\"w\")\n",
    "        plt.tight_layout()\n",
    "        plt.savefig('out/results/{}_{}_{}_scores_overall_{}.pdf'.format(config.classifier_type, config.dataset, config.clf_mode, metrics[l]))"
   ]
  },
  {
   "cell_type": "markdown",
   "metadata": {},
   "source": [
    "##### Per scenario"
   ]
  },
  {
   "cell_type": "code",
   "execution_count": null,
   "metadata": {},
   "outputs": [],
   "source": [
    "import pandas as pd\n",
    "import numpy as np\n",
    "import matplotlib.pyplot as plt\n",
    "import plotting_util as putil\n",
    "\n",
    "plt.rcParams['figure.facecolor'] = 'white'\n",
    "\n",
    "SIGNAL_COMBOS = [['driver_behavior', 'vehicle_behavior'], ['driver_behavior', 'vehicle_behavior', 'navi'],\n",
    "                ['driver_behavior', 'vehicle_behavior', 'radar'], ['driver_behavior', 'vehicle_behavior', 'navi', 'radar']]\n",
    "\n",
    "SCENARIOS = ['highway', 'rural', 'town']\n",
    "\n",
    "colors = ['blue', 'royalblue', 'green', 'limegreen']\n",
    "\n",
    "# compare scenarios\n",
    "for i, window_size in enumerate(config.window_sizes):\n",
    "    for j, combo in enumerate(SIGNAL_COMBOS):\n",
    "        scores = []\n",
    "        signal_string = ''\n",
    "        for signal in combo:\n",
    "            signal_string += '_' + signal\n",
    "        for k, scenario in enumerate(SCENARIOS):\n",
    "            results = pd.read_csv('out/results/{}_{}_pred_results_windowsize_{}{}_{}.csv'.format(\n",
    "                            config.classifier_type, config.clf_mode, window_size, signal_string, scenario), index_col=0, usecols=lambda x: x not in ['fit_time', 'score_time'])\n",
    "            scores.append(results.loc[subject_ids, metrics])\n",
    "        scores = np.array(scores)\n",
    "        for l in range(scores.shape[2]):\n",
    "            fig, axes = putil.create_plot()\n",
    "            putil.set_ax_visible_spines(axes[0], top=False, right=False)\n",
    "            putil.set_figure_size(fig, 5, 5)\n",
    "            axes[0].boxplot(np.transpose(scores[:, :, l]))\n",
    "            putil.set_ax_title(axes[0], ' +\\n'.join(combo).replace('_', ' ').replace(' behavior', ''))\n",
    "            putil.set_ax_xticks(axes[0], range(1, len(SCENARIOS)+1), SCENARIOS)\n",
    "            putil.set_ax_yticks(axes[0], yticks, yticks)\n",
    "            putil.set_ax_axis_labels(axes[0], x_label='scenarios', y_label=metrics[l].replace('_', ' ').replace('roc auc', 'AUROC'))\n",
    "            putil.set_ax_bg_color(axes[0], 'whitesmoke')\n",
    "            putil.set_ax_grid_lines(axes[0], True, axis=\"y\", color=\"w\")\n",
    "            plt.tight_layout()\n",
    "            plt.savefig('out/results/{}_{}_{}_scores_per_scenario{}_{}.pdf'.format(config.classifier_type, config.dataset, config.clf_mode, signal_string, metrics[l]))"
   ]
  },
  {
   "cell_type": "markdown",
   "metadata": {},
   "source": [
    "### Events"
   ]
  },
  {
   "cell_type": "markdown",
   "metadata": {},
   "source": [
    "#### All events"
   ]
  },
  {
   "cell_type": "markdown",
   "metadata": {},
   "source": [
    "##### Overall"
   ]
  },
  {
   "cell_type": "code",
   "execution_count": null,
   "metadata": {},
   "outputs": [],
   "source": [
    "import pandas as pd\n",
    "import numpy as np\n",
    "import matplotlib.pyplot as plt\n",
    "import plotting_util as putil\n",
    "\n",
    "plt.rcParams['figure.facecolor'] = 'white'\n",
    "\n",
    "scores = []\n",
    "results = pd.read_csv('out/results/{}_{}_pred_results_combined_events.csv'.format(\n",
    "            config.classifier_type, config.clf_mode), index_col=0, usecols=lambda x: x not in ['fit_time', 'score_time'])\n",
    "scores.append(results.loc[subject_ids, metrics])\n",
    "scores = np.array(scores)\n",
    "fig, axes = putil.create_plot()\n",
    "axes[0].boxplot(np.transpose(scores[0, :, [0,2]]))\n",
    "putil.set_ax_visible_spines(axes[0], top=False, right=False)\n",
    "putil.set_figure_size(fig, 5, 5)\n",
    "putil.set_ax_title(axes[0], 'all events')\n",
    "putil.set_ax_axis_labels(axes[0], x_label='', y_label='score')\n",
    "putil.set_ax_bg_color(axes[0], 'whitesmoke')\n",
    "putil.set_ax_grid_lines(axes[0], True, axis=\"y\", color=\"w\")\n",
    "putil.set_ax_xticks(axes[0], range(1, 3), [m.replace('roc_auc', 'AUROC').replace('_', ' \\n') for m in np.array(metrics)[[0,2]]])\n",
    "putil.set_ax_yticks(axes[0], yticks, yticks)\n",
    "plt.tight_layout()\n",
    "plt.savefig('out/results/{}_{}_scores_events_combined.pdf'.format(config.classifier_type, config.clf_mode))"
   ]
  },
  {
   "cell_type": "markdown",
   "metadata": {},
   "source": [
    "##### Per scenario"
   ]
  },
  {
   "cell_type": "code",
   "execution_count": null,
   "metadata": {},
   "outputs": [],
   "source": [
    "import pandas as pd\n",
    "import numpy as np\n",
    "import matplotlib.pyplot as plt\n",
    "import plotting_util as putil\n",
    "\n",
    "plt.rcParams['figure.facecolor'] = 'white'\n",
    "\n",
    "EVENTS = ['brake', 'brake_to_gas', 'gas', 'gas_to_brake', 'overtaking', 'road_sign', 'turning']\n",
    "\n",
    "SCENARIOS = ['highway', 'rural', 'town']\n",
    "\n",
    "scores = []\n",
    "for scenario in SCENARIOS:\n",
    "    results = pd.read_csv('out/results/{}_{}_pred_results_combined_events_{}.csv'.format(\n",
    "                config.classifier_type, config.clf_mode, scenario), index_col=0, usecols=lambda x: x not in ['fit_time', 'score_time'])\n",
    "    scores.append(results.loc[subject_ids, metrics])\n",
    "scores = np.array(scores)\n",
    "for i in range(scores.shape[2]):\n",
    "    fig, axes = putil.create_plot()\n",
    "    putil.set_ax_visible_spines(axes[0], top=False, right=False)\n",
    "    putil.set_figure_size(fig, 5, 5)\n",
    "    axes[0].boxplot(np.transpose(scores[:, :, i]))\n",
    "    putil.set_ax_title(axes[0], 'all events')\n",
    "    putil.set_ax_xticks(axes[0], range(1, len(SCENARIOS)+1), SCENARIOS)\n",
    "    putil.set_ax_yticks(axes[0], yticks, yticks)\n",
    "    putil.set_ax_axis_labels(axes[0], x_label='scenarios', y_label=metrics[i].replace('_', ' ').replace('roc auc', 'AUROC'))\n",
    "    putil.set_ax_bg_color(axes[0], 'whitesmoke')\n",
    "    putil.set_ax_grid_lines(axes[0], True, axis=\"y\", color=\"w\")\n",
    "    plt.tight_layout()\n",
    "    plt.savefig('out/results/{}_{}_scores_events_combined_{}.pdf'.format(config.classifier_type, config.clf_mode, metrics[i]))"
   ]
  },
  {
   "cell_type": "markdown",
   "metadata": {},
   "source": [
    "#### Per event"
   ]
  },
  {
   "cell_type": "markdown",
   "metadata": {},
   "source": [
    "##### Overall"
   ]
  },
  {
   "cell_type": "code",
   "execution_count": null,
   "metadata": {},
   "outputs": [],
   "source": [
    "import pandas as pd\n",
    "import numpy as np\n",
    "import matplotlib.pyplot as plt\n",
    "import plotting_util as putil\n",
    "\n",
    "plt.rcParams['figure.facecolor'] = 'white'\n",
    "\n",
    "EVENTS = ['brake', 'brake_to_gas', 'gas', 'gas_to_brake', 'overtaking', 'road_sign', 'turning']\n",
    "\n",
    "for i, event in enumerate(EVENTS):\n",
    "    scores = []\n",
    "    results = pd.read_csv('out/results/{}_{}_pred_results_{}.csv'.format(\n",
    "                config.classifier_type, config.clf_mode, event), index_col=0, usecols=lambda x: x not in ['fit_time', 'score_time'])\n",
    "    scores.append(results.loc[subject_ids, metrics])\n",
    "    scores = np.array(scores)\n",
    "    fig, axes = putil.create_plot()\n",
    "    axes[0].boxplot(np.transpose(scores[0, :, [0,2]]))\n",
    "    putil.set_ax_visible_spines(axes[0], top=False, right=False)\n",
    "    putil.set_figure_size(fig, 5, 5)\n",
    "    putil.set_ax_title(axes[0], event.replace('_', ' '))\n",
    "    putil.set_ax_axis_labels(axes[0], x_label='', y_label='score')\n",
    "    putil.set_ax_bg_color(axes[0], 'whitesmoke')\n",
    "    putil.set_ax_grid_lines(axes[0], True, axis=\"y\", color=\"w\")\n",
    "    putil.set_ax_xticks(axes[0], range(1, 3), [m.replace('roc_auc', 'AUROC').replace('_', ' \\n') for m in np.array(metrics)[[0,2]]])\n",
    "    putil.set_ax_yticks(axes[0], yticks, yticks)\n",
    "    plt.tight_layout()\n",
    "    plt.savefig('out/results/{}_{}_scores_{}.pdf'.format(config.classifier_type, config.clf_mode, event))"
   ]
  },
  {
   "cell_type": "markdown",
   "metadata": {},
   "source": [
    "##### Per scenario"
   ]
  },
  {
   "cell_type": "code",
   "execution_count": null,
   "metadata": {},
   "outputs": [],
   "source": [
    "import pandas as pd\n",
    "import numpy as np\n",
    "import matplotlib.pyplot as plt\n",
    "import plotting_util as putil\n",
    "\n",
    "plt.rcParams['figure.facecolor'] = 'white'\n",
    "\n",
    "EVENTS = ['brake', 'brake_to_gas', 'gas', 'gas_to_brake', 'overtaking', 'road_sign', 'turning']\n",
    "\n",
    "SCENARIOS = ['highway', 'rural', 'town']\n",
    "\n",
    "for i, event in enumerate(EVENTS):\n",
    "    scores = []\n",
    "    for scenario in SCENARIOS:\n",
    "        if event == 'turning' and scenario == 'highway':\n",
    "            continue\n",
    "        else:\n",
    "            results = pd.read_csv('out/results/{}_{}_pred_results_{}_{}.csv'.format(\n",
    "                        config.classifier_type, config.clf_mode, event, scenario), index_col=0, usecols=lambda x: x not in ['fit_time', 'score_time'])\n",
    "            scores.append(results.loc[subject_ids, metrics])\n",
    "    scores = np.array(scores)\n",
    "    for j in range(scores.shape[2]):\n",
    "        fig, axes = putil.create_plot()\n",
    "        putil.set_ax_visible_spines(axes[0], top=False, right=False)\n",
    "        putil.set_figure_size(fig, 5, 5)\n",
    "        axes[0].boxplot(np.transpose(scores[:, :, j]))\n",
    "        putil.set_ax_xticks(axes[0], range(1, len(SCENARIOS)+1), SCENARIOS)\n",
    "        putil.set_ax_yticks(axes[0], yticks, yticks)\n",
    "        putil.set_ax_title(axes[0], event)\n",
    "        putil.set_ax_bg_color(axes[0], 'whitesmoke')\n",
    "        putil.set_ax_grid_lines(axes[0], True, axis=\"y\", color=\"w\")\n",
    "        putil.set_ax_axis_labels(axes[0], x_label='scenarios', y_label=metrics[j].replace('_', ' ').replace('roc auc', 'AUROC'))\n",
    "        plt.tight_layout()\n",
    "        plt.savefig('out/results/{}_{}_scores_{}_{}_{}.pdf'.format(config.classifier_type, config.clf_mode, event, scenario, metrics[j]))"
   ]
  }
 ],
 "metadata": {
  "interpreter": {
   "hash": "fb6cecb4b017aacc75af7fc465a2b65ff55fcf20de66591fd1094dae1cba1d54"
  },
  "kernelspec": {
   "display_name": "Python 3.9.9 ('DRIVE-venv')",
   "language": "python",
   "name": "python3"
  },
  "language_info": {
   "codemirror_mode": {
    "name": "ipython",
    "version": 3
   },
   "file_extension": ".py",
   "mimetype": "text/x-python",
   "name": "python",
   "nbconvert_exporter": "python",
   "pygments_lexer": "ipython3",
   "version": "3.9.9"
  },
  "orig_nbformat": 4
 },
 "nbformat": 4,
 "nbformat_minor": 2
}

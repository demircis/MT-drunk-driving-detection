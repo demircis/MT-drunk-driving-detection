{
 "cells": [
  {
   "cell_type": "markdown",
   "metadata": {},
   "source": [
    "### Feature Analysis"
   ]
  },
  {
   "cell_type": "markdown",
   "metadata": {},
   "source": [
    "##### According to state overall"
   ]
  },
  {
   "cell_type": "code",
   "execution_count": null,
   "metadata": {},
   "outputs": [],
   "source": [
    "import pandas as pd\n",
    "import matplotlib.pyplot as plt\n",
    "import seaborn as sns\n",
    "import plotting_util as putil\n",
    "\n",
    "plt.rcParams['figure.facecolor'] = 'white'\n",
    "\n",
    "DRIVER_BEHAVIOR = ['steer', 'gas', 'brake', 'SteerSpeed', 'indicator_left', 'indicator_right',\n",
    "                    'gas_vel', 'brake_vel', 'gas_acc', 'brake_acc', 'SteerSpeed_acc',\n",
    "                    'gas_jerk', 'brake_jerk', 'SteerSpeed_jerk', 'SteerError']\n",
    "VEHICLE_BEHAVIOR = ['velocity', 'acc', 'acc_jerk', 'latvel', 'YawRate', 'latvel_acc', 'latvel_jerk',\n",
    "                    'YawRate_acc', 'YawRate_jerk']\n",
    "RADAR = ['lane_position', 'lane_distance_left_edge', 'lane_distance_right_edge', 'lane_crossing', \n",
    "         'is_crossing_lane', 'is_crossing_lane_left', 'is_crossing_lane_right',\n",
    "         'lane_crossing_left', 'lane_crossing_right', 'lane_switching', 'opp_lane_switching',\n",
    "         'Ttc', 'TtcOpp', 'Thw', 'Dhw']\n",
    "NAVI = ['dtoint', 'SpeedDif', 'speed_limit_exceeded']\n",
    "\n",
    "SIGNALS = {'driver_behavior': DRIVER_BEHAVIOR,\n",
    "           'vehicle_behavior': VEHICLE_BEHAVIOR,\n",
    "           'radar': RADAR,\n",
    "           'navi': NAVI}\n",
    "\n",
    "STATS = ['mean', 'std', 'min','max', 'q5', 'q95', 'range', 'iqrange', 'iqrange_5_95', 'sum', 'energy', 'skewness',\n",
    "         'kurtosis', 'peaks', 'rms', 'lineintegral', 'n_above_mean', 'n_below_mean', 'n_sign_changes', 'ptp']\n",
    "\n",
    "for signal_type, signals in SIGNALS.items():\n",
    "    can_data = pd.read_parquet('out/can_data_features_{}_windowsize_60s.parquet'.format(signal_type))\n",
    "    for signal in signals:\n",
    "        fig, axes = putil.create_plot(len(STATS), constrained_layout=True)\n",
    "        putil.set_figure_size(fig, 20, 60)\n",
    "        putil.set_fig_title(fig, signal)\n",
    "        for i, stat in enumerate(STATS):\n",
    "            sns.kdeplot(x=signal + '_' + stat, data=can_data, hue='subject_state', ax=axes[i])\n",
    "        plt.savefig('out/kdeplots/{}_{}.png'.format(signal_type, signal))"
   ]
  },
  {
   "cell_type": "markdown",
   "metadata": {},
   "source": [
    "##### According to state per scenario"
   ]
  },
  {
   "cell_type": "code",
   "execution_count": null,
   "metadata": {},
   "outputs": [],
   "source": [
    "import pandas as pd\n",
    "import matplotlib.pyplot as plt\n",
    "import seaborn as sns\n",
    "import plotting_util as putil\n",
    "\n",
    "plt.rcParams['figure.facecolor'] = 'white'\n",
    "\n",
    "DRIVER_BEHAVIOR = ['steer', 'gas', 'brake', 'SteerSpeed', 'indicator_left', 'indicator_right',\n",
    "                    'gas_vel', 'brake_vel', 'gas_acc', 'brake_acc', 'SteerSpeed_acc',\n",
    "                    'gas_jerk', 'brake_jerk', 'SteerSpeed_jerk', 'SteerError']\n",
    "VEHICLE_BEHAVIOR = ['velocity', 'acc', 'acc_jerk', 'latvel', 'YawRate', 'latvel_acc', 'latvel_jerk',\n",
    "                    'YawRate_acc', 'YawRate_jerk']\n",
    "RADAR = ['lane_position', 'lane_distance_left_edge', 'lane_distance_right_edge', 'lane_crossing', \n",
    "         'is_crossing_lane', 'is_crossing_lane_left', 'is_crossing_lane_right',\n",
    "         'lane_crossing_left', 'lane_crossing_right', 'lane_switching', 'opp_lane_switching',\n",
    "         'Ttc', 'TtcOpp', 'Thw', 'Dhw']\n",
    "NAVI = ['dtoint', 'SpeedDif', 'speed_limit_exceeded']\n",
    "\n",
    "SIGNALS = {'driver_behavior': DRIVER_BEHAVIOR,\n",
    "           'vehicle_behavior': VEHICLE_BEHAVIOR,\n",
    "           'radar': RADAR,\n",
    "           'navi': NAVI}\n",
    "\n",
    "STATS = ['mean', 'std', 'min','max', 'q5', 'q95', 'range', 'iqrange', 'iqrange_5_95', 'sum', 'energy', 'skewness',\n",
    "         'kurtosis', 'peaks', 'rms', 'lineintegral', 'n_above_mean', 'n_below_mean', 'n_sign_changes', 'ptp']\n",
    "\n",
    "SCENARIOS = ['highway', 'rural', 'town']\n",
    "\n",
    "for signal_type, signals in SIGNALS.items():\n",
    "    can_data = pd.read_parquet('out/can_data_features_{}_windowsize_60s.parquet'.format(signal_type))\n",
    "    for scenario in SCENARIOS:\n",
    "        can_data_scenario = can_data.loc[:, :, scenario, :]\n",
    "        for signal in signals:\n",
    "            fig, axes = putil.create_plot(len(STATS), constrained_layout=True)\n",
    "            putil.set_figure_size(fig, 20, 60)\n",
    "            putil.set_fig_title(fig, scenario + ': ' + signal)\n",
    "            for i, stat in enumerate(STATS):\n",
    "                sns.kdeplot(x=signal + '_' + stat, data=can_data_scenario, hue='subject_state', ax=axes[i])\n",
    "            plt.savefig('out/kdeplots/scenarios/{}_{}_{}.png'.format(scenario, signal_type, signal))"
   ]
  },
  {
   "cell_type": "markdown",
   "metadata": {},
   "source": [
    "#### Events"
   ]
  },
  {
   "cell_type": "code",
   "execution_count": null,
   "metadata": {},
   "outputs": [],
   "source": [
    "import pandas as pd\n",
    "import matplotlib.pyplot as plt\n",
    "import seaborn as sns\n",
    "import plotting_util as putil\n",
    "\n",
    "plt.rcParams['figure.facecolor'] = 'white'\n",
    "\n",
    "DRIVER_BEHAVIOR = ['steer', 'gas', 'brake', 'SteerSpeed', 'indicator_left', 'indicator_right',\n",
    "                    'gas_vel', 'brake_vel', 'gas_acc', 'brake_acc', 'SteerSpeed_acc',\n",
    "                    'gas_jerk', 'brake_jerk', 'SteerSpeed_jerk', 'SteerError']\n",
    "VEHICLE_BEHAVIOR = ['velocity', 'acc', 'acc_jerk', 'latvel', 'YawRate', 'latvel_acc', 'latvel_jerk',\n",
    "                    'YawRate_acc', 'YawRate_jerk']\n",
    "RADAR = ['lane_position', 'lane_distance_left_edge', 'lane_distance_right_edge', 'lane_crossing', \n",
    "         'is_crossing_lane', 'is_crossing_lane_left', 'is_crossing_lane_right',\n",
    "         'lane_crossing_left', 'lane_crossing_right', 'lane_switching', 'opp_lane_switching',\n",
    "         'Ttc', 'TtcOpp', 'Thw', 'Dhw']\n",
    "NAVI = ['dtoint', 'SpeedDif', 'speed_limit_exceeded']\n",
    "\n",
    "SIGNALS = {'driver_behavior': DRIVER_BEHAVIOR,\n",
    "           'vehicle_behavior': VEHICLE_BEHAVIOR,\n",
    "           'radar': RADAR,\n",
    "           'navi': NAVI}\n",
    "\n",
    "STATS = ['mean', 'std', 'min','max', 'q5', 'q95', 'range', 'iqrange', 'iqrange_5_95', 'sum', 'energy', 'skewness',\n",
    "         'kurtosis', 'peaks', 'rms', 'lineintegral', 'n_above_mean', 'n_below_mean', 'n_sign_changes', 'ptp']\n",
    "\n",
    "EVENTS = ['brake', 'brake_to_gas', 'gas', 'gas_to_brake', 'overtaking', 'road_sign', 'turning']\n",
    "\n",
    "for event in EVENTS:\n",
    "    event_data = pd.read_parquet('out/can_data_{}_events.parquet'.format(event))\n",
    "    # event_data = event_data[(\n",
    "    #     (event_data['sign_type'] != 1)\n",
    "    #     & (event_data['sign_type'] != 2)\n",
    "    #     & (event_data['sign_type'] != 140)\n",
    "    #     & (event_data['sign_type'] != 141)\n",
    "    #     & (event_data['sign_type'] != 4)\n",
    "    #     & (event_data['sign_type'] != 5)\n",
    "    #     )]\n",
    "    for signal_type, signals in SIGNALS.items():\n",
    "        for signal in signals:\n",
    "            fig, axes = putil.create_plot(len(STATS), constrained_layout=True)\n",
    "            putil.set_figure_size(fig, 20, 60)\n",
    "            putil.set_fig_title(fig, signal)\n",
    "            for i, stat in enumerate(STATS):\n",
    "                sns.kdeplot(x=signal + '_' + stat, data=event_data, hue='subject_state', ax=axes[i])\n",
    "            plt.savefig('out/kdeplots/{}_event_{}_{}.png'.format(event, signal_type, signal))"
   ]
  },
  {
   "cell_type": "code",
   "execution_count": null,
   "metadata": {},
   "outputs": [],
   "source": [
    "import pandas as pd\n",
    "import matplotlib.pyplot as plt\n",
    "import seaborn as sns\n",
    "import plotting_util as putil\n",
    "\n",
    "plt.rcParams['figure.facecolor'] = 'white'\n",
    "\n",
    "EVENTS = ['brake', 'brake_to_gas', 'gas', 'gas_to_brake', 'overtaking', 'road_sign', 'turning']\n",
    "\n",
    "STATS = ['mean_duration', 'std_duration', 'mean_ratio', 'std_ratio', 'count']\n",
    "\n",
    "SCENARIOS = ['highway', 'rural', 'town']\n",
    "\n",
    "can_data_events_per_window = pd.read_parquet('out/can_data_events_per_window_windowsize_60s.parquet')\n",
    "for event in EVENTS:\n",
    "    for scenario in SCENARIOS:\n",
    "        can_data_events_per_window_scenario = can_data_events_per_window.loc[:, :, scenario, :]\n",
    "        fig, axes = putil.create_plot(len(STATS), constrained_layout=True)\n",
    "        putil.set_figure_size(fig, 20, 20)\n",
    "        putil.set_fig_title(fig, event)\n",
    "        for i, stat in enumerate(STATS):\n",
    "            sns.kdeplot(x=event + '_' + stat, data=can_data_events_per_window_scenario, hue='subject_state', ax=axes[i])\n",
    "        plt.savefig('out/kdeplots/scenarios/events/{}_{}_event_per_window.png'.format(scenario, event))"
   ]
  }
 ],
 "metadata": {
  "interpreter": {
   "hash": "fb6cecb4b017aacc75af7fc465a2b65ff55fcf20de66591fd1094dae1cba1d54"
  },
  "kernelspec": {
   "display_name": "DRIVE-venv",
   "language": "python",
   "name": "drive-venv"
  },
  "language_info": {
   "codemirror_mode": {
    "name": "ipython",
    "version": 3
   },
   "file_extension": ".py",
   "mimetype": "text/x-python",
   "name": "python",
   "nbconvert_exporter": "python",
   "pygments_lexer": "ipython3",
   "version": "3.9.9"
  },
  "orig_nbformat": 4
 },
 "nbformat": 4,
 "nbformat_minor": 2
}

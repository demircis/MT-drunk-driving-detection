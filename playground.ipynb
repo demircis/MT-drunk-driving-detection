{
 "cells": [
  {
   "cell_type": "code",
   "execution_count": 1,
   "metadata": {},
   "outputs": [
    {
     "name": "stdout",
     "output_type": "stream",
     "text": [
      "Index(['subject_id', 'subject_state', 'subject_scenario', 'timestamp', 'steer',\n",
      "       'latpos', 'gas', 'brake', 'clutch', 'Thw', 'velocity', 'acc', 'latvel',\n",
      "       'dtoint', 'heading', 'SpeedDif', 'LaneDirection', 'SteerError',\n",
      "       'SteerSpeed', 'Ttc', 'TtcOpp', 'LeftDis', 'RightDis', 'AheadDis',\n",
      "       'ypos', 'xpos', 'YawRate', 'traflight', 'handbrake', 'engine',\n",
      "       'indicator_right', 'indicator_left', 'gas_vel', 'brake_vel', 'gas_acc',\n",
      "       'brake_acc', 'latvel_acc', 'SteerSpeed_acc', 'SpeedDif_acc',\n",
      "       'YawRate_acc', 'gas_jerk', 'brake_jerk', 'latvel_jerk',\n",
      "       'SteerSpeed_jerk', 'acc_jerk', 'YawRate_jerk'],\n",
      "      dtype='object')\n"
     ]
    }
   ],
   "source": [
    "import pandas as pd\n",
    "import plotting_util\n",
    "from math import ceil\n",
    "\n",
    "df = pd.read_parquet(\"out/can_data.parquet\")\n",
    "print(df.columns)"
   ]
  },
  {
   "cell_type": "code",
   "execution_count": null,
   "metadata": {},
   "outputs": [],
   "source": [
    "subject_006_sober_rural = df[(df['subject_id'] == '006') & (df['subject_state'] == 'above') & (df['subject_scenario'] == 'rural')]\n",
    "\n",
    "times = subject_006_sober_rural['timestamp']\n",
    "\n",
    "nr_df_cols = len(subject_006_sober_rural.iloc[:, 4:].columns)\n",
    "nr_rows = ceil(nr_df_cols / 2.0)\n",
    "nr_cols = 2\n",
    "\n",
    "fig, axes = plotting_util.create_plot(nr_rows, nr_cols, True, False)\n",
    "for axs, row in zip(axes, list(range(nr_rows))):\n",
    "    for ax, col in zip(axs, list(range(nr_cols))):\n",
    "        plotting_util.set_plot_axis_labels(ax, '', '')\n",
    "        plotting_util.set_plot_title(ax, subject_006_sober_rural.iloc[:, 4+2*row+col].name)\n",
    "        ax.plot(times, subject_006_sober_rural.iloc[:, 4+2*row+col])\n",
    "plotting_util.set_figure_size(fig, 20, 50)"
   ]
  },
  {
   "cell_type": "code",
   "execution_count": null,
   "metadata": {},
   "outputs": [],
   "source": [
    "%matplotlib widget\n",
    "lanes_df = pd.read_csv('out/scenario_information.csv')\n",
    "lanes_df = lanes_df.loc[lanes_df['scenario'] == 'rural']\n",
    "fig, ax = plotting_util.create_plot(1,1)\n",
    "for _, row in lanes_df.iterrows():\n",
    "    ax.plot([row['StartPos_x_segment'], row['EndPos_x_segment']], [row['StartPos_y_segment'], row['EndPos_y_segment']], 'o-')\n",
    "plotting_util.set_figure_size(fig, 20, 20)"
   ]
  }
 ],
 "metadata": {
  "interpreter": {
   "hash": "4d38b0f11020d666728afea22b8c28c9b5047b48a579ca7bb4bf92d3abe21fb0"
  },
  "kernelspec": {
   "display_name": "Python 3.8.5 64-bit ('.venv': venv)",
   "language": "python",
   "name": "python3"
  },
  "language_info": {
   "codemirror_mode": {
    "name": "ipython",
    "version": 3
   },
   "file_extension": ".py",
   "mimetype": "text/x-python",
   "name": "python",
   "nbconvert_exporter": "python",
   "pygments_lexer": "ipython3",
   "version": "3.8.10"
  },
  "orig_nbformat": 4
 },
 "nbformat": 4,
 "nbformat_minor": 2
}

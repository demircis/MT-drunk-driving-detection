{
 "cells": [
  {
   "cell_type": "markdown",
   "metadata": {},
   "source": [
    "### Plot Signals"
   ]
  },
  {
   "cell_type": "code",
   "execution_count": null,
   "metadata": {},
   "outputs": [],
   "source": [
    "import pandas as pd\n",
    "import plotting_util\n",
    "from math import ceil\n",
    "\n",
    "df = pd.read_parquet(\"out/can_data.parquet\")\n",
    "# print(df['lane_position'] != df1['lane_position'])\n",
    "print(df.columns)\n",
    "subject_006_sober_rural = df[(df['subject_id'] == '006') & (df['subject_state'] == 'sober') & (df['subject_scenario'] == 'rural')]\n",
    "\n",
    "times = subject_006_sober_rural['timestamp']\n",
    "\n",
    "nr_df_cols = len(subject_006_sober_rural.iloc[:, 5:].columns)\n",
    "nr_rows = ceil(nr_df_cols / 2.0)\n",
    "nr_cols = 2\n",
    "\n",
    "fig, axes = plotting_util.create_plot(nr_rows, nr_cols, True, False)\n",
    "for axs, row in zip(axes, list(range(nr_rows))):\n",
    "    for ax, col in zip(axs, list(range(nr_cols))):\n",
    "        plotting_util.set_plot_axis_labels(ax, '', '')\n",
    "        plotting_util.set_plot_title(ax, subject_006_sober_rural.iloc[:, 4+2*row+col].name)\n",
    "        ax.plot(times, subject_006_sober_rural.iloc[:, 4+2*row+col])\n",
    "plotting_util.set_figure_size(fig, 20, 50)"
   ]
  },
  {
   "cell_type": "markdown",
   "metadata": {},
   "source": [
    "### Plot Segment Positions"
   ]
  },
  {
   "cell_type": "code",
   "execution_count": null,
   "metadata": {},
   "outputs": [],
   "source": [
    "import pandas as pd\n",
    "import plotting_util\n",
    "%matplotlib widget\n",
    "lanes_df = pd.read_csv('out/scenario_information.csv')\n",
    "lanes_df = lanes_df.loc[lanes_df['scenario'] == 'highway']\n",
    "fig, ax = plotting_util.create_plot(1,1)\n",
    "for _, row in lanes_df.iterrows():\n",
    "    ax.plot([row['StartPos_x_segment'], row['EndPos_x_segment']], [row['StartPos_y_segment'], row['EndPos_y_segment']], 'o-')\n",
    "plotting_util.set_figure_size(fig, 20, 20)"
   ]
  },
  {
   "cell_type": "markdown",
   "metadata": {},
   "source": [
    "### ID Image Thresholding"
   ]
  },
  {
   "cell_type": "code",
   "execution_count": null,
   "metadata": {},
   "outputs": [],
   "source": [
    "import matplotlib.pyplot as plt\n",
    "import cv2 as cv\n",
    "\n",
    "img = cv.imread('out/20210901_d-011_above/error_segment_1927394.0.jpg')\n",
    "imhsv = cv.cvtColor(img, cv.COLOR_BGR2HSV)\n",
    "mask = cv.inRange(imhsv, (0, 50, 0), (179, 255, 255))\n",
    "img_no_artifacts = cv.bitwise_and(img, img, mask=mask)\n",
    "imgray = cv.cvtColor(img_no_artifacts, cv.COLOR_BGR2GRAY)\n",
    "_, thresh = cv.threshold(imgray, 127, 255, cv.THRESH_BINARY)\n",
    "plt.imshow(thresh)"
   ]
  },
  {
   "cell_type": "markdown",
   "metadata": {},
   "source": [
    "### None Counting for Segment IDs"
   ]
  },
  {
   "cell_type": "code",
   "execution_count": null,
   "metadata": {},
   "outputs": [],
   "source": [
    "import pandas as pd\n",
    "import glob\n",
    "import re\n",
    "\n",
    "\n",
    "DATA_FOLDER = '/adar/drive/study'\n",
    "\n",
    "subject_folders = sorted(glob.glob(DATA_FOLDER + '/*_sober') + glob.glob(DATA_FOLDER + '/*_above') + glob.glob(\n",
    "            DATA_FOLDER + '/*_below'))\n",
    "subject_folders = [f for f in subject_folders if 'audio' not in f]\n",
    "\n",
    "scenarios = ['highway', 'rural', 'town']\n",
    "\n",
    "can_data = pd.read_parquet('out/can_data.parquet')\n",
    "\n",
    "subject_re = re.compile('d-([0-9]+)')\n",
    "for subject in subject_folders:\n",
    "    subject_id_match = subject_re.search(subject)\n",
    "    if not subject_id_match:\n",
    "        continue\n",
    "    subject_id = subject_id_match.group(1)\n",
    "\n",
    "    if \"drunk\" in subject:\n",
    "        state = \"drunk\"\n",
    "    elif \"above\" in subject:\n",
    "        state = \"above\"\n",
    "    elif \"below\" in subject:\n",
    "        state = \"below\"\n",
    "    else:\n",
    "        state = \"sober\"\n",
    "\n",
    "    for scenario in scenarios: \n",
    "        can_data_for_subject = can_data.loc[(can_data['subject_id'] == subject_id) & (can_data['subject_state'] == state) & (can_data['subject_scenario'] == scenario)]\n",
    "        print('subject_id: {}, state: {}, scenario: {}'.format(subject, subject_id, state, scenario))\n",
    "        print(can_data_for_subject['segment_id'].isna().sum())"
   ]
  },
  {
   "cell_type": "markdown",
   "metadata": {},
   "source": [
    "### Lane Position Validation"
   ]
  },
  {
   "cell_type": "code",
   "execution_count": null,
   "metadata": {},
   "outputs": [],
   "source": [
    "import pandas as pd\n",
    "import glob\n",
    "import re\n",
    "import cv2 as cv\n",
    "import random\n",
    "import datetime\n",
    "import pytz\n",
    "import os\n",
    "\n",
    "DATA_FOLDER = '/adar/drive/study'\n",
    "\n",
    "subject_folders = sorted(glob.glob(DATA_FOLDER + '/*_sober') + glob.glob(DATA_FOLDER + '/*_above') + glob.glob(\n",
    "            DATA_FOLDER + '/*_below'))\n",
    "subject_folders = [f for f in subject_folders if 'audio' not in f]\n",
    "\n",
    "selected_folders = random.sample(subject_folders, 5)\n",
    "scenarios = ['highway', 'rural', 'town']\n",
    "\n",
    "can_data = pd.read_parquet('out/can_data.parquet')\n",
    "\n",
    "subject_re = re.compile('d-([0-9]+)')\n",
    "timestamp_re = re.compile(r'(\\d{4})-(\\d{2})-(\\d{2})--(\\d{2})-(\\d{2})-(\\d{2}).flv')\n",
    "for subject in selected_folders:\n",
    "    subject_id_match = subject_re.search(subject)\n",
    "    if not subject_id_match:\n",
    "        continue\n",
    "    subject_id = subject_id_match.group(1)\n",
    "\n",
    "    if \"drunk\" in subject:\n",
    "        state = \"drunk\"\n",
    "    elif \"above\" in subject:\n",
    "        state = \"above\"\n",
    "    elif \"below\" in subject:\n",
    "        state = \"below\"\n",
    "    else:\n",
    "        state = \"sober\"\n",
    "\n",
    "    scenario = random.choice(scenarios)\n",
    "    can_data_for_subject = can_data.loc[(can_data['subject_id'] == subject_id) & (can_data['subject_state'] == state) & (can_data['subject_scenario'] == scenario)]\n",
    "\n",
    "    print('subject folder: {}, subject_id: {}, state: {}, scenario: {}'.format(subject, subject_id, state, scenario))\n",
    "    \n",
    "    for video in glob.glob(subject + '/obs-videos/*[!_cropped].flv'):\n",
    "        print('video: {}'.format(video.split('/')[-1]))\n",
    "        match = timestamp_re.search(video.split('/')[-1])\n",
    "        if match:\n",
    "            year = int(match.group(1))\n",
    "            month = int(match.group(2))\n",
    "            day = int(match.group(3))\n",
    "            hour = int(match.group(4))\n",
    "            minute = int(match.group(5))\n",
    "            second = int(match.group(6))\n",
    "            video_timestamp = datetime.datetime(year, month, day, hour, minute, second)\n",
    "            tz = pytz.timezone('Europe/Zurich')\n",
    "            video_timestamp = tz.localize(video_timestamp)\n",
    "            can_data_timestamps_ms = (can_data_for_subject['timestamp'] - video_timestamp) / datetime.timedelta(milliseconds=1)\n",
    "            can_data_segment_id = can_data_for_subject['segment_id']\n",
    "            can_data_lane_nr = can_data_for_subject['lane_number']\n",
    "            can_data_lane_pos = can_data_for_subject['lane_position']\n",
    "            cap = cv.VideoCapture(video)\n",
    "            sampled_timestamps = sorted(random.sample(list(zip(can_data_timestamps_ms, can_data_segment_id, can_data_lane_nr, can_data_lane_pos)), 10))\n",
    "            index = 0\n",
    "            for timestamp_ms, segment_id, lane_nr, lane_pos in sampled_timestamps:\n",
    "                folder = 'out/' + subject.split('/')[-1]\n",
    "                if not os.path.exists(folder):\n",
    "                    os.makedirs(folder)\n",
    "                is_set = cap.set(cv.CAP_PROP_POS_MSEC, timestamp_ms)\n",
    "                if is_set:\n",
    "                    success, frame = cap.read()\n",
    "                    if success:\n",
    "                        print('success')\n",
    "                        img = cv.putText(frame, 'segment id: {}'.format(segment_id), (1300, 1300), cv.FONT_HERSHEY_COMPLEX, 1, (255, 255, 255))\n",
    "                        img = cv.putText(img, 'lane nr: {}'.format(lane_nr), (1300, 1500), cv.FONT_HERSHEY_COMPLEX, 1, (255, 255, 255))\n",
    "                        img = cv.putText(img, 'lane pos: {}'.format(lane_pos), (1300, 1700), cv.FONT_HERSHEY_COMPLEX, 1, (255, 255, 255))\n",
    "                        cv.imwrite(folder + '/img{}-{}.png'.format(index, scenario), img)\n",
    "                        index += 1\n",
    "                    else:\n",
    "                        print('could not get frame')\n",
    "                else:\n",
    "                    print('could not set video timestamp')"
   ]
  }
 ],
 "metadata": {
  "interpreter": {
   "hash": "4d38b0f11020d666728afea22b8c28c9b5047b48a579ca7bb4bf92d3abe21fb0"
  },
  "kernelspec": {
   "display_name": "Python 3.8.5 64-bit ('.venv': venv)",
   "language": "python",
   "name": "python3"
  },
  "language_info": {
   "codemirror_mode": {
    "name": "ipython",
    "version": 3
   },
   "file_extension": ".py",
   "mimetype": "text/x-python",
   "name": "python",
   "nbconvert_exporter": "python",
   "pygments_lexer": "ipython3",
   "version": "3.8.10"
  },
  "orig_nbformat": 4
 },
 "nbformat": 4,
 "nbformat_minor": 2
}

{
 "cells": [
  {
   "cell_type": "markdown",
   "metadata": {},
   "source": [
    "### Load Config"
   ]
  },
  {
   "cell_type": "code",
   "execution_count": 30,
   "metadata": {},
   "outputs": [],
   "source": [
    "from yaml import load, Loader\n",
    "from bunch import Bunch\n",
    "\n",
    "stream = open(\"config.yaml\", 'r')\n",
    "config = Bunch(load(stream, Loader=Loader))"
   ]
  },
  {
   "cell_type": "markdown",
   "metadata": {},
   "source": [
    "### Read Data"
   ]
  },
  {
   "cell_type": "code",
   "execution_count": 32,
   "metadata": {},
   "outputs": [
    {
     "name": "stdout",
     "output_type": "stream",
     "text": [
      "signal type: driver_behavior, window size: 150s\n",
      "prediction on subject 001\n"
     ]
    }
   ],
   "source": [
    "import pandas as pd\n",
    "import numpy as np\n",
    "from sklearn.model_selection import LeaveOneGroupOut, GridSearchCV\n",
    "from sklearn.ensemble import RandomForestClassifier\n",
    "\n",
    "LOGO = LeaveOneGroupOut()\n",
    "SCORING = ['roc_auc', 'accuracy', 'balanced_accuracy', 'f1_micro', 'average_precision', 'recall', 'precision']\n",
    "PARAMETERS = {'n_estimators': [50, 100, 150], \"max_features\": ['sqrt', 'log2']}\n",
    "\n",
    "SIGNALS = ['driver_behavior', 'vehicle_behavior', 'radar', 'navi']\n",
    "\n",
    "for signal in SIGNALS:\n",
    "    for window_size in config.window_sizes:\n",
    "        can_data_features = pd.read_parquet('out/can_data_features_{}_windowsize_{}s.parquet'.format(signal, window_size))\n",
    "        can_data_features['label'] = 0\n",
    "        can_data_features.loc[(slice(None), 'above', slice(None)), 'label'] = 1\n",
    "        print('signal type: {}, window size: {}s'.format(signal, window_size))\n",
    "\n",
    "        # drop below BAC level for binary classification\n",
    "        can_data_features_bin = can_data_features.drop('below', level=1)\n",
    "\n",
    "        subject_ids = np.unique(list(can_data_features_bin.index.get_level_values('subject_id')))\n",
    "\n",
    "        # take one subject out to use as test set\n",
    "        for subject_id in subject_ids:\n",
    "            print('prediction on subject {}'.format(subject_id))\n",
    "            can_data_features_bin_test = can_data_features_bin.loc[subject_id, :]\n",
    "            can_data_features_bin_train = can_data_features_bin.drop(subject_id).droplevel(['subject_state', 'subject_scenario', 'datetime'])\n",
    "\n",
    "            gs = GridSearchCV(estimator= RandomForestClassifier(class_weight='balanced'), param_grid=PARAMETERS,\n",
    "                    scoring=SCORING, cv=LOGO, refit='roc_auc', verbose=2)\n",
    "            gs.fit(can_data_features_bin_train.drop(columns='label'), can_data_features_bin_train['label'], groups=can_data_features_bin_train.index.to_numpy())\n",
    "\n",
    "            print(gs.score(can_data_features_bin_test.drop(columns='label').to_numpy(), can_data_features_bin_test['label']))"
   ]
  }
 ],
 "metadata": {
  "interpreter": {
   "hash": "4d38b0f11020d666728afea22b8c28c9b5047b48a579ca7bb4bf92d3abe21fb0"
  },
  "kernelspec": {
   "display_name": "Python 3.8.10 64-bit ('.venv': venv)",
   "language": "python",
   "name": "python3"
  },
  "language_info": {
   "codemirror_mode": {
    "name": "ipython",
    "version": 3
   },
   "file_extension": ".py",
   "mimetype": "text/x-python",
   "name": "python",
   "nbconvert_exporter": "python",
   "pygments_lexer": "ipython3",
   "version": "3.8.10"
  },
  "orig_nbformat": 4
 },
 "nbformat": 4,
 "nbformat_minor": 2
}
